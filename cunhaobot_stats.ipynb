{
 "cells": [
  {
   "cell_type": "markdown",
   "metadata": {},
   "source": [
    "### Statistics Cunhaobot"
   ]
  },
  {
   "cell_type": "markdown",
   "metadata": {},
   "source": [
    "First, import the tools we need."
   ]
  },
  {
   "cell_type": "code",
   "execution_count": null,
   "metadata": {
    "collapsed": true
   },
   "outputs": [],
   "source": [
    "import pandas as pd\n",
    "import numpy as np\n",
    "import matplotlib.pyplot as plt\n",
    "import matplotlib.patches as mpatches\n",
    "import json"
   ]
  },
  {
   "cell_type": "markdown",
   "metadata": {},
   "source": [
    "Then clean a bit the json file containing all the information."
   ]
  },
  {
   "cell_type": "code",
   "execution_count": null,
   "metadata": {
    "collapsed": true
   },
   "outputs": [],
   "source": [
    "results = []\n",
    "filename = 'bq-results-20190624-222826-z9jyo1950ix9.json'\n",
    "with open(filename, encoding='latin-1') as f:\n",
    "    for line in f.read().strip().split(\"\\n\"):\n",
    "        results.append(json.loads(line)['textPayload'])\n",
    "\n",
    "\n",
    "clean_results = []\n",
    "for result in results:\n",
    "    if not result.endswith(\"}\"):\n",
    "        continue\n",
    "    if not result.startswith(\"{\"):\n",
    "        result = result[result.index(\"{\"):]\n",
    "    clean_results.append(result)\n",
    "\n",
    "\n",
    "#slow and dangerous\n",
    "results_dicts = [eval(result) for result in clean_results]"
   ]
  },
  {
   "cell_type": "markdown",
   "metadata": {},
   "source": [
    "And trim a little more the file to save the things we want to get the statistics.\n",
    "\n",
    "First, we get the 'query_inline_results', those results contain all the information we want: Username (or first name), query type (if the query is long, short, audio...), user_id (Telegram user id) and the query data the user used or submited; if something is not found is replaced by \"EMPTY\" (or \"Maybe\" (2) in the case if the user is a bot or not... You can't be 100% sure).\n",
    "\n",
    "Lastly, create a dictionary with all this information to get Pandas DataFrame working."
   ]
  },
  {
   "cell_type": "code",
   "execution_count": null,
   "metadata": {
    "collapsed": true
   },
   "outputs": [],
   "source": [
    "inline_results = [msg for msg in results_dicts if 'chosen_inline_result' in msg.keys()]\n",
    "usernames = []\n",
    "list_queries = []\n",
    "\n",
    "for idx in range(len(inline_results)):\n",
    "    try:\n",
    "        user = inline_results[idx]['chosen_inline_result']['from']['username']\n",
    "    except KeyError:\n",
    "        user = inline_results[idx]['chosen_inline_result']['from']['first_name']\n",
    "    user_id = inline_results[idx]['chosen_inline_result']['from']['id']\n",
    "    try:\n",
    "        is_bot = inline_results[idx]['chosen_inline_result']['from']['is_bot']\n",
    "    except KeyError:\n",
    "        is_bot = \"Maybe\"\n",
    "    try:\n",
    "        query_type = inline_results[idx]['chosen_inline_result']['query']\n",
    "    except KeyError:\n",
    "        query_type = \"EMPTY\"\n",
    "    try: \n",
    "        query_data = inline_results[idx]['chosen_inline_result']['result_id']\n",
    "    except KeyError:\n",
    "        query_data = \"EMPTY\"\n",
    "    list_queries.append((user_id, user, is_bot, query_type, query_data))\n",
    "    if (user not in usernames):\n",
    "        usernames.append(user)\n",
    "        \n",
    "query_dict = {}\n",
    "queries = []\n",
    "lines = []\n",
    "user_checked = []\n",
    "uses = [user[1] for user in list_queries]\n",
    "id_user = 0\n",
    "for tuple_query in list_queries:\n",
    "    current_user_id = tuple_query[0]\n",
    "    current_user = tuple_query[1]\n",
    "    current_user_is_bot = tuple_query[2]\n",
    "    if current_user not in user_checked:\n",
    "        n_uses = len([idx for idx in range(len(uses)) if uses[idx] == current_user])\n",
    "        query_types = [query[3] for query in list_queries if current_user == query[1]]\n",
    "        queries_data = [line[4] for line in list_queries if current_user == line[1]]\n",
    "        user_checked.append(current_user)\n",
    "        query_dict[id_user] = {'user_id': current_user_id, 'user': current_user, \n",
    "                              'is_bot': current_user_is_bot, 'query_type': query_types, \n",
    "                              'query_data': queries_data, 'num_uses': n_uses}\n",
    "        id_user += 1"
   ]
  },
  {
   "cell_type": "markdown",
   "metadata": {},
   "source": [
    "Now the F-U-N begins, let's get the DataFrame and study the logs!"
   ]
  },
  {
   "cell_type": "code",
   "execution_count": null,
   "metadata": {
    "collapsed": true
   },
   "outputs": [],
   "source": [
    "dataframe_logs = pd.DataFrame(query_dict).transpose()\n",
    "num_observations = len(dataframe_logs.index)\n",
    "num_features = len(dataframe_logs.columns)\n",
    "\n",
    "print(\"There are: {} observations and {} features right now\".format(num_observations, num_features))\n",
    "\n",
    "fig, ax = plt.subplots()\n",
    "N, bins, patches = ax.hist(x=dataframe_logs[\"is_bot\"], edgecolor='black', linewidth=2)\n",
    "plt.ylabel(\"Frecuency\")\n",
    "plt.xlabel(\"Is bot\")\n",
    "plt.grid()\n",
    "for idx in range(0,3): patches[idx].set_facecolor('crimson')\n",
    "for idx in range(3,7): patches[idx].set_facecolor('aqua')\n",
    "for idx in range(7,len(patches)): patches[idx].set_facecolor('chartreuse')\n",
    "true_data = mpatches.Patch(color='aqua', label='True')\n",
    "false_data = mpatches.Patch(color='crimson', label='False')\n",
    "maybe_data = mpatches.Patch(color='chartreuse', label='Maybe')\n",
    "plt.legend(handles=[false_data, true_data, maybe_data], loc='upper left')\n",
    "plt.title(\"Count of bots using this bot\")\n",
    "plt.show()"
   ]
  }
 ],
 "metadata": {
  "kernelspec": {
   "display_name": "Python 3",
   "language": "python",
   "name": "python3"
  },
  "language_info": {
   "codemirror_mode": {
    "name": "ipython",
    "version": 3
   },
   "file_extension": ".py",
   "mimetype": "text/x-python",
   "name": "python",
   "nbconvert_exporter": "python",
   "pygments_lexer": "ipython3",
   "version": "3.6.0"
  }
 },
 "nbformat": 4,
 "nbformat_minor": 2
}
