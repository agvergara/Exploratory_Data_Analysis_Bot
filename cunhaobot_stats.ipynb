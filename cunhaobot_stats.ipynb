{
  "nbformat": 4,
  "nbformat_minor": 0,
  "metadata": {
    "colab": {
      "name": "cunhaobot_stats.ipynb",
      "version": "0.3.2",
      "provenance": [],
      "include_colab_link": true
    },
    "language_info": {
      "codemirror_mode": {
        "name": "ipython",
        "version": 3
      },
      "file_extension": ".py",
      "mimetype": "text/x-python",
      "name": "python",
      "nbconvert_exporter": "python",
      "pygments_lexer": "ipython3",
      "version": "3.6.0"
    },
    "kernelspec": {
      "display_name": "Python 3",
      "language": "python",
      "name": "python3"
    }
  },
  "cells": [
    {
      "cell_type": "markdown",
      "metadata": {
        "id": "view-in-github",
        "colab_type": "text"
      },
      "source": [
        "<a href=\"https://colab.research.google.com/github/agvergara/Exploratory_Data_Analysis_Bot/blob/master/cunhaobot_stats.ipynb\" target=\"_parent\"><img src=\"https://colab.research.google.com/assets/colab-badge.svg\" alt=\"Open In Colab\"/></a>"
      ]
    },
    {
      "cell_type": "markdown",
      "metadata": {
        "id": "F_Rq0obTMMez",
        "colab_type": "text"
      },
      "source": [
        "### Statistics Cunhaobot"
      ]
    },
    {
      "cell_type": "markdown",
      "metadata": {
        "id": "g_NEJTfcMMe2",
        "colab_type": "text"
      },
      "source": [
        "First, let's check if all the requirements are installed and, if not, install them (in Google Colab) but if they are installed, import all of them."
      ]
    },
    {
      "cell_type": "code",
      "metadata": {
        "id": "-P-F60-OMVqz",
        "colab_type": "code",
        "colab": {}
      },
      "source": [
        "pandas_check = !pip show pandas\n",
        "\n",
        "if not pandas_check:\n",
        "  !pip install pandas\n",
        "else:\n",
        "  import pandas as pd\n",
        "  \n",
        "numpy_check = !pip show numpy\n",
        "\n",
        "if not numpy_check:\n",
        "  !pip install numpy\n",
        "else:\n",
        "  import numpy as np\n",
        "  \n",
        "plt_check = !pip show matplotlib\n",
        "\n",
        "if not plt_check:\n",
        "  !pip install matplotlib\n",
        "else:\n",
        "  import matplotlib.pyplot as plt\n",
        "  %matplotlib inline\n",
        "\n",
        "import json\n",
        "from collections import Counter"
      ],
      "execution_count": 0,
      "outputs": []
    },
    {
      "cell_type": "markdown",
      "metadata": {
        "id": "nMGYJ6evQCUa",
        "colab_type": "text"
      },
      "source": [
        "Now let's get our data from Google Drive!"
      ]
    },
    {
      "cell_type": "code",
      "metadata": {
        "id": "PJlOUz90Qx1e",
        "colab_type": "code",
        "colab": {
          "base_uri": "https://localhost:8080/",
          "height": 34
        },
        "outputId": "6b5494d1-a68e-426a-96b8-09649d975785"
      },
      "source": [
        "from google.colab import drive\n",
        "drive.mount('/content/drive')"
      ],
      "execution_count": 24,
      "outputs": [
        {
          "output_type": "stream",
          "text": [
            "Mounted at /content/drive\n"
          ],
          "name": "stdout"
        }
      ]
    },
    {
      "cell_type": "markdown",
      "metadata": {
        "id": "oxG3rg7GMMe8",
        "colab_type": "text"
      },
      "source": [
        "Then clean a bit the json file containing all the information."
      ]
    },
    {
      "cell_type": "code",
      "metadata": {
        "id": "dw4Ztg2YMMe9",
        "colab_type": "code",
        "colab": {}
      },
      "source": [
        "results = []\n",
        "path = '/content/drive/My Drive/data_bot/bq-results-20190624-222826-z9jyo1950ix9.json'\n",
        "# To use it locally\n",
        "#path = 'bq-results-20190624-222826-z9jyo1950ix9.json'\n",
        "with open(path, encoding='latin-1') as f:\n",
        "    for line in f.read().strip().split(\"\\n\"):\n",
        "        results.append(json.loads(line)['textPayload'])\n",
        "\n",
        "\n",
        "clean_results = []\n",
        "for result in results:\n",
        "    if not result.endswith(\"}\"):\n",
        "        continue\n",
        "    if not result.startswith(\"{\"):\n",
        "        result = result[result.index(\"{\"):]\n",
        "    clean_results.append(result)\n",
        "\n",
        "\n",
        "#slow and dangerous\n",
        "results_dicts = [eval(result) for result in clean_results]"
      ],
      "execution_count": 0,
      "outputs": []
    },
    {
      "cell_type": "markdown",
      "metadata": {
        "id": "JvWSdSohMMfA",
        "colab_type": "text"
      },
      "source": [
        "And trim a little more the file to save the things we want to get the statistics.\n",
        "\n",
        "First, we get the 'query_inline_results', those results contain all the information we want: Username (or first name), query type (if the query is long, short, audio...), user_id (Telegram user id) and the query data the user used or submited; if something is not found is replaced by \"EMPTY\" (or \"Maybe\" (2) in the case if the user is a bot or not... You can't be 100% sure).\n",
        "\n",
        "Lastly, create a dictionary with all this information to get Pandas DataFrame working."
      ]
    },
    {
      "cell_type": "code",
      "metadata": {
        "id": "xN5ZcIkIMMfB",
        "colab_type": "code",
        "colab": {}
      },
      "source": [
        "inline_results = [msg for msg in results_dicts if 'chosen_inline_result' in msg.keys()]\n",
        "usernames = []\n",
        "list_queries = []\n",
        "for idx in range(len(inline_results)):\n",
        "    try:\n",
        "        user = inline_results[idx]['chosen_inline_result']['from']['username']\n",
        "    except KeyError:\n",
        "        user = inline_results[idx]['chosen_inline_result']['from']['first_name']\n",
        "    user_id = inline_results[idx]['chosen_inline_result']['from']['id']\n",
        "    try:\n",
        "        is_bot = inline_results[idx]['chosen_inline_result']['from']['is_bot']\n",
        "    except KeyError:\n",
        "        is_bot = \"Maybe\"\n",
        "    try:\n",
        "        query_type = inline_results[idx]['chosen_inline_result']['query']\n",
        "    except KeyError:\n",
        "        query_type = \"EMPTY\"\n",
        "    try:\n",
        "        query_data = inline_results[idx]['chosen_inline_result']['result_id']\n",
        "    except KeyError:\n",
        "        query_data = \"EMPTY\"\n",
        "    list_queries.append((user_id, user, is_bot, query_type, query_data))\n",
        "    if (user not in usernames):\n",
        "        usernames.append(user)\n",
        "\n",
        "query_dict = {}\n",
        "queries = []\n",
        "lines = []\n",
        "user_checked = []\n",
        "uses = [user[1] for user in list_queries]\n",
        "id_user = 0\n",
        "for tuple_query in list_queries:\n",
        "    current_user_id = tuple_query[0]\n",
        "    current_user = tuple_query[1]\n",
        "    current_user_is_bot = tuple_query[2]\n",
        "    if current_user not in user_checked:\n",
        "        n_uses = len([idx for idx in range(len(uses)) if uses[idx] == current_user])\n",
        "        query_types = [query[3] for query in list_queries if current_user == query[1]]\n",
        "        queries_data = [line[4] for line in list_queries if current_user == line[1]]\n",
        "        user_checked.append(current_user)\n",
        "        query_dict[id_user] = {'user_id': current_user_id, 'user': current_user,\n",
        "                               'is_bot': current_user_is_bot, 'query_type': query_types,\n",
        "                               'query_data': queries_data, 'num_uses': n_uses}\n",
        "        id_user += 1\n"
      ],
      "execution_count": 0,
      "outputs": []
    },
    {
      "cell_type": "markdown",
      "metadata": {
        "id": "fkscXpdlMMfE",
        "colab_type": "text"
      },
      "source": [
        "Now the F-U-N begins, let's get the DataFrame and study the logs!"
      ]
    },
    {
      "cell_type": "code",
      "metadata": {
        "id": "QPBG70xQMMfF",
        "colab_type": "code",
        "colab": {
          "base_uri": "https://localhost:8080/",
          "height": 34
        },
        "outputId": "78d11fed-8705-49c9-9451-ec0e410dcb90"
      },
      "source": [
        "dataframe_logs = pd.DataFrame(query_dict).transpose()\n",
        "num_observations = len(dataframe_logs.index)\n",
        "num_features = len(dataframe_logs.columns)\n",
        "\n",
        "print(\"There are: {} observations and {} features right now\".format(num_observations, num_features))"
      ],
      "execution_count": 28,
      "outputs": [
        {
          "output_type": "stream",
          "text": [
            "There are: 128 observations and 6 features right now\n"
          ],
          "name": "stdout"
        }
      ]
    },
    {
      "cell_type": "markdown",
      "metadata": {
        "id": "YEfuGJ0fRqzA",
        "colab_type": "text"
      },
      "source": [
        "### Bot Usage\n",
        "So we're here now, huh? Let's get some sweet, sweet stats, but first, let me define some functions and some colors to make it spicy"
      ]
    },
    {
      "cell_type": "code",
      "metadata": {
        "id": "jzrgE8uNR0H7",
        "colab_type": "code",
        "colab": {}
      },
      "source": [
        "def extract_query_type(data):\n",
        "    query_uses = ['audio', 'sonido', 'sound', 'mp3', 'ogg',\n",
        "            'frase', 'long', 'larga', 'largo',\n",
        "            'ayuda', 'help']\n",
        "    dict_query_type = {}\n",
        "    id_query = 0\n",
        "    for query_type_list in data[\"query_type\"]:\n",
        "        for query_type in query_type_list:\n",
        "            if ((query_type == 'EMPTY') or (query_type == '')):\n",
        "                query_type = \"corta\"\n",
        "            else:\n",
        "                try:\n",
        "                    aux = int(query_type[0])\n",
        "                    if (type(aux) == int):\n",
        "                        query_type = \"corta\"\n",
        "                except ValueError:\n",
        "                    try:\n",
        "                        aux = query_type.split(\" \")[0]\n",
        "                        if (aux in query_uses):\n",
        "                            query_type = aux\n",
        "                        else:\n",
        "                            query_type = \"mal\"\n",
        "                    except IndexError:\n",
        "                        pass\n",
        "                except IndexError:\n",
        "                    pass\n",
        "            dict_query_type[id_query] = {'query_type': query_type}\n",
        "            id_query += 1\n",
        "    return dict_query_type\n",
        "\n",
        "def print_bars_graph(dataframe, colors, xlabel, ylabel, title):\n",
        "    _, ax = plt.subplots()\n",
        "    data = Counter(dataframe)\n",
        "    print(data)\n",
        "    height = [val for key, val in data.items()]\n",
        "    x = np.arange(len(data))\n",
        "    ax.bar(x, height, edgecolor='black', linewidth=1, color=colors)\n",
        "    plt.ylabel(ylabel)\n",
        "    plt.xlabel(xlabel)\n",
        "    plt.xticks(x, (data.keys()))\n",
        "    plt.grid()\n",
        "    plt.title(title)\n",
        "    plt.show()\n",
        "\n",
        "def print_user_stats(user_to_search):\n",
        "    user_stats = dataframe_logs.loc[dataframe_logs['user'] == user_to_search]\n",
        "    data_use_user = pd.DataFrame.from_dict(extract_query_type(user_stats)).transpose()\n",
        "    title = \"Number of uses of this bot by user: \" + user_to_search\n",
        "    xlabel = \"Type of uses\"\n",
        "    ylabel = \"Number of uses\"\n",
        "    print_bars_graph(data_use_user[\"query_type\"], colors, xlabel, ylabel, title)\n",
        "    print(\"This user used this bot {} times in total.\".format(len(data_use_user)))\n",
        "\n",
        "def extract_words_query(data):\n",
        "    words = []\n",
        "    queries = [query for query in data['query_type']]\n",
        "    for word_list in queries:\n",
        "        for word in word_list:\n",
        "            try:\n",
        "                aux_word = word.split(\" \")[1]\n",
        "                words.append(aux_word)\n",
        "            except IndexError:\n",
        "                pass\n",
        "                #words.append(word)\n",
        "    return words\n",
        "\n",
        "colors = ['crimson', 'chartreuse', 'aqua', 'skyblue', 'orange',\n",
        "          'salmon', 'royalblue', 'olive', 'navy', 'gray']"
      ],
      "execution_count": 0,
      "outputs": []
    },
    {
      "cell_type": "markdown",
      "metadata": {
        "id": "qKsCH_1dR8oy",
        "colab_type": "text"
      },
      "source": [
        "#### General usage"
      ]
    },
    {
      "cell_type": "markdown",
      "metadata": {
        "id": "uku7T0ATSDak",
        "colab_type": "text"
      },
      "source": [
        "##### Bots using this bot"
      ]
    },
    {
      "cell_type": "code",
      "metadata": {
        "id": "Iiu9hYnwSFpb",
        "colab_type": "code",
        "colab": {
          "base_uri": "https://localhost:8080/",
          "height": 312
        },
        "outputId": "4b9c42b9-44ac-461d-e930-bba6d4b62f96"
      },
      "source": [
        "xlabel = \"Is bot\"\n",
        "ylabel = \"Frecuency\"\n",
        "title = \"Count of bots using this bot\"\n",
        "print_bars_graph(dataframe_logs[\"is_bot\"], colors, xlabel, ylabel, title)\n"
      ],
      "execution_count": 33,
      "outputs": [
        {
          "output_type": "stream",
          "text": [
            "Counter({'Maybe': 82, False: 46})\n"
          ],
          "name": "stdout"
        },
        {
          "output_type": "display_data",
          "data": {
            "image/png": "[encoded data removed]",
            "text/plain": [
              "<Figure size 432x288 with 1 Axes>"
            ]
          },
          "metadata": {
            "tags": []
          }
        }
      ]
    },
    {
      "cell_type": "markdown",
      "metadata": {
        "id": "8-wOXwphSczx",
        "colab_type": "text"
      },
      "source": [
        "#### General usage of the bot"
      ]
    },
    {
      "cell_type": "code",
      "metadata": {
        "id": "Crcs5JVGSfDA",
        "colab_type": "code",
        "colab": {
          "base_uri": "https://localhost:8080/",
          "height": 329
        },
        "outputId": "ad88bdd2-11f4-493e-f932-7132d83004a6"
      },
      "source": [
        "data_use = pd.DataFrame.from_dict(extract_query_type(dataframe_logs)).transpose()\n",
        "print_bars_graph(data_use[\"query_type\"], colors, \"Type of uses\", \"Frecuency\", \"Number of uses of this bot\")\n",
        "print(\"This bot has been used {} times in total.\".format(len(data_use)))"
      ],
      "execution_count": 34,
      "outputs": [
        {
          "output_type": "stream",
          "text": [
            "Counter({'corta': 1196, 'audio': 448, 'frase': 434, 'larga': 76, 'long': 68, 'mal': 58, 'largo': 22, 'help': 6, 'sonido': 4, 'ayuda': 4})\n"
          ],
          "name": "stdout"
        },
        {
          "output_type": "display_data",
          "data": {
            "image/png": "[encoded data removed]",
            "text/plain": [
              "<Figure size 432x288 with 1 Axes>"
            ]
          },
          "metadata": {
            "tags": []
          }
        },
        {
          "output_type": "stream",
          "text": [
            "This bot has been used 2316 times in total.\n"
          ],
          "name": "stdout"
        }
      ]
    },
    {
      "cell_type": "markdown",
      "metadata": {
        "id": "QIxUab9MS9Sf",
        "colab_type": "text"
      },
      "source": [
        "#### Wordcloud!"
      ]
    },
    {
      "cell_type": "code",
      "metadata": {
        "id": "rn5-7sU-TCvG",
        "colab_type": "code",
        "colab": {}
      },
      "source": [
        ""
      ],
      "execution_count": 0,
      "outputs": []
    },
    {
      "cell_type": "markdown",
      "metadata": {
        "id": "cZ6VwHkFSjCR",
        "colab_type": "text"
      },
      "source": [
        "#### User stats for this bot"
      ]
    },
    {
      "cell_type": "code",
      "metadata": {
        "id": "PLCVvjMdSl-I",
        "colab_type": "code",
        "colab": {
          "base_uri": "https://localhost:8080/",
          "height": 379
        },
        "outputId": "963947d9-7939-4a3c-866d-e76874fd46cf"
      },
      "source": [
        "user_to_search = 'Anthyc'\n",
        "print_user_stats(user_to_search)\n",
        "print(\"\\n Here it comes the wordcloud!\\n\")"
      ],
      "execution_count": 37,
      "outputs": [
        {
          "output_type": "stream",
          "text": [
            "Counter({'frase': 6, 'corta': 2})\n"
          ],
          "name": "stdout"
        },
        {
          "output_type": "display_data",
          "data": {
            "image/png": "[encoded data removed]",
            "text/plain": [
              "<Figure size 432x288 with 1 Axes>"
            ]
          },
          "metadata": {
            "tags": []
          }
        },
        {
          "output_type": "stream",
          "text": [
            "This user used this bot 8 times in total.\n",
            "\n",
            " Here it comes the wordcloud!\n",
            "\n"
          ],
          "name": "stdout"
        }
      ]
    },
    {
      "cell_type": "markdown",
      "metadata": {
        "id": "VM--I589SqoK",
        "colab_type": "text"
      },
      "source": [
        "#### Query stats \n",
        "(Change _verbose_ to get the user stats also)"
      ]
    },
    {
      "cell_type": "code",
      "metadata": {
        "id": "p1rxGjiDSpkp",
        "colab_type": "code",
        "colab": {
          "base_uri": "https://localhost:8080/",
          "height": 403
        },
        "outputId": "0a1b68f2-de9c-40b0-b1a6-4b29d5a3d399"
      },
      "source": [
        "query_to_search = \"audio\"\n",
        "query_stats = []\n",
        "user_checked = []\n",
        "for row in dataframe_logs.iterrows():\n",
        "    for query in row[1]['query_type']:\n",
        "        if ((query_to_search in query) and (row[1]['user'] not in user_checked)):\n",
        "            query_stats.append(row[1])\n",
        "            user_checked.append(row[1]['user'])\n",
        "\n",
        "verbose = False\n",
        "print(\"Searching for query: \" + query_to_search)\n",
        "print(\"Number of times query is found: {}\".format(len(query_stats)))\n",
        "for query in query_stats:\n",
        "    print(\"Query found by user: \" + query['user'])\n",
        "    if (verbose):\n",
        "        print_user_stats(query['user'])\n",
        "        print(\"\\n\")\n"
      ],
      "execution_count": 36,
      "outputs": [
        {
          "output_type": "stream",
          "text": [
            "Searching for query: audio\n",
            "Number of times query is found: 21\n",
            "Query found by user: jenarvaezg\n",
            "Query found by user: atcolombini\n",
            "Query found by user: RPard\n",
            "Query found by user: p4k0p4\n",
            "Query found by user: DonM21\n",
            "Query found by user: niptim\n",
            "Query found by user: Hopper\n",
            "Query found by user: Alfonsitor\n",
            "Query found by user: Nokichan\n",
            "Query found by user: javierlunamolina\n",
            "Query found by user: Alfree94\n",
            "Query found by user: Angel9z\n",
            "Query found by user: Vinegar321\n",
            "Query found by user: Kiriqui\n",
            "Query found by user: Dani\n",
            "Query found by user: annajor\n",
            "Query found by user: Alrik93\n",
            "Query found by user: mr_badgr\n",
            "Query found by user: desgat\n",
            "Query found by user: MaximRS\n",
            "Query found by user: Joel\n"
          ],
          "name": "stdout"
        }
      ]
    }
  ]
}